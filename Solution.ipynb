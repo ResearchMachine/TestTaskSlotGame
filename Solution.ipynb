{
 "cells": [
  {
   "cell_type": "markdown",
   "id": "c8cd6ecd",
   "metadata": {},
   "source": [
    "\n",
    "# Аннотация к решению: \n",
    "Используется метод Монте Карло для генерации выборки случайной величины суммы выигрыша. \n",
    "\n",
    "**Описание алгоритма:**\n",
    "Генерируется 5 случайных величин - номера элементов положений середин барабанов. На основе этих чисел формируется матрица с результатами игры. По матрице вычисляется выигрыш и доступные спины. Алгоритм повторяется и выигрыш суммируется до тех пор, пока есть доступные спины. Так как положения каждого из барабанов равновероятны, то используется генератор случайной величины с равномерной функцией распределения.\n",
    "\n",
    "\n",
    "Доверительные интервалы для дисперсии и мат ожидания вычисляются по формулам [[Ссылка]](https://mse.msu.ru/wp-content/uploads/2020/03/%D0%9B%D0%B5%D0%BA%D1%86%D0%B8%D1%8F-5-%D0%B4%D0%BE%D0%B2%D0%B5%D1%80%D0%B8%D1%82%D0%B5%D0%BB%D1%8C%D0%BD%D1%8B%D0%B5-%D0%B8%D0%BD%D1%82%D0%B5%D1%80%D0%B2%D0%B0%D0%BB%D1%8B.pdf) в предположении что генеральная совокупность имеет нормальную форму.\n",
    "\n",
    "**Результат:**\n",
    "В результате реализации, проведены симуляции 10^4, 10^5, 10^6 игр. \n",
    "Проведен расчет мат ожидания, дисперсии и доверительные интервалов этих величин. Приведен график распределения игр с ненулевым выигрышем.\n",
    "\n",
    "\n",
    "\n",
    "------------------------------------------------------------------------------------------\n"
   ]
  },
  {
   "cell_type": "code",
   "execution_count": 32,
   "id": "f5f423b5",
   "metadata": {},
   "outputs": [],
   "source": [
    "#Remove warnings\n",
    "import warnings\n",
    "warnings.simplefilter(\"ignore\")\n",
    "#Basic data analysis libraries\n",
    "import seaborn as sns\n",
    "import numpy as np\n",
    "import matplotlib.pyplot as plt\n",
    "from matplotlib.colors import ListedColormap\n",
    "import pandas as pd\n",
    "import math\n",
    "import random"
   ]
  },
  {
   "cell_type": "code",
   "execution_count": 33,
   "id": "be9e8c4f",
   "metadata": {},
   "outputs": [
    {
     "data": {
      "text/plain": [
       "array([[<AxesSubplot: title={'center': '0'}>]], dtype=object)"
      ]
     },
     "execution_count": 33,
     "metadata": {},
     "output_type": "execute_result"
    },
    {
     "data": {
      "image/png": "[encoded data removed]",
      "text/plain": [
       "<Figure size 640x480 with 1 Axes>"
      ]
     },
     "metadata": {},
     "output_type": "display_data"
    }
   ],
   "source": [
    "# Визуально проверим \"равномерность\" генератора\n",
    "N_Games = 100000\n",
    "tmp = []\n",
    "\n",
    "for i in range(1, N_Games):\n",
    "    tmp.append(random.randint(1, 180))\n",
    "    \n",
    "df = pd.DataFrame(tmp)\n",
    "df.hist(bins=50)"
   ]
  },
  {
   "cell_type": "code",
   "execution_count": 7,
   "id": "2c0f673c",
   "metadata": {},
   "outputs": [
    {
     "name": "stdout",
     "output_type": "stream",
     "text": [
      "Пример одной реализации игры \n",
      "[['G' 'S' 'G' 'G' 'G']\n",
      " ['S' 'E' 'S' 'S' 'S']\n",
      " ['E' 'D' 'E' 'E' 'E']]\n"
     ]
    }
   ],
   "source": [
    "#Параметры барабанов\n",
    "\n",
    "#Лента центральных барабанов \n",
    "BarabanStringCenter = 'GSEDGDBWGFEAHGBCHCBFACGGEFSCAWAHEFDWCGEEGFFGHDCHGBGCHCBHDDDBFHSWHSADCHABCDSEHBDADAEFDHGCEHDSFCAAFCHCBAFDGEFDGBECBSFECWSFWFEBHCDHGGGSGBHGFAHAAAFCFHBADAWDBWEBAEAEBFCWBDWCBFHESDEEBEAG'\n",
    "#Лента барабанов на краях\n",
    "BarabanStringBoundary = BarabanStringCenter.replace('W', '')\n",
    "\n",
    "# Получение матрицы 5х3 результата игры\n",
    "def GameMatrixResult(S1, S2, S3, S4, S5): \n",
    "    # Подставляем входные параметры в положения массивов BarabanStringCenter и BarabanStringBoundary\n",
    "    arr = [[BarabanStringCenter[S1-1], BarabanStringCenter[S2-1], BarabanStringCenter[S3-1], BarabanStringCenter[S4-1], BarabanStringCenter[S5-1]], \n",
    "           [BarabanStringCenter[S1], BarabanStringCenter[S2], BarabanStringCenter[S3], BarabanStringCenter[S4], BarabanStringCenter[S5]], \n",
    "           [BarabanStringCenter[S1+1], BarabanStringCenter[S2+1], BarabanStringCenter[S3+1], BarabanStringCenter[S4+1], BarabanStringCenter[S5+1]]]\n",
    "    arr = np.array(arr)\n",
    "    return(arr)\n",
    "\n",
    "N_BarabanStringCenter = len(BarabanStringCenter)-1\n",
    "N_BarabanStringBoundary = len(BarabanStringBoundary)-1\n",
    "\n",
    "tmp = GameMatrixResult(1, 2, 1, 1, 1)\n",
    "\n",
    "print('Пример одной реализации игры \\n' + str(tmp))"
   ]
  },
  {
   "cell_type": "code",
   "execution_count": 13,
   "id": "404b5c4c",
   "metadata": {},
   "outputs": [
    {
     "name": "stdout",
     "output_type": "stream",
     "text": [
      "Пример расчета размера приза по всем 9 линиям выплат и числа фриспинов за 1 вращение \n",
      "\n",
      "Матрица игры \n",
      "[['G' 'S' 'G' 'G' 'G']\n",
      " ['S' 'E' 'S' 'S' 'S']\n",
      " ['E' 'D' 'E' 'E' 'E']]\n",
      "Сумма выигрыша \n",
      "0.6000000000000001\n",
      "Число начисленных фриспинов за раунд \n",
      "15\n"
     ]
    }
   ],
   "source": [
    "add_spin3 = 5\n",
    "add_spin4 = 10\n",
    "add_spin5 = 15\n",
    "\n",
    "def PrizeResult(MatrixResult):\n",
    "    PrizeValue = 0\n",
    "    add_spin = 0\n",
    "\n",
    "    # По таблице выплат считаем выигрыш по всем линиям выплат\n",
    "    # 9 линий выплат\n",
    "    lines = []\n",
    "\n",
    "    lines.append(MatrixResult[0, 0]+MatrixResult[0, 1]+MatrixResult[0, 2]+MatrixResult[0, 3]+MatrixResult[0, 4])\n",
    "    lines.append(MatrixResult[1, 0]+MatrixResult[1, 1]+MatrixResult[1, 2]+MatrixResult[1, 3]+MatrixResult[1, 4])\n",
    "    lines.append(MatrixResult[2, 0]+MatrixResult[2, 1]+MatrixResult[2, 2]+MatrixResult[2, 3]+MatrixResult[2, 4])\n",
    "\n",
    "    lines.append(MatrixResult[0, 0]+MatrixResult[1, 1]+MatrixResult[2, 2]+MatrixResult[1, 3]+MatrixResult[0, 4])\n",
    "    lines.append(MatrixResult[2, 0]+MatrixResult[1, 1]+MatrixResult[0, 2]+MatrixResult[1, 3]+MatrixResult[2, 4])\n",
    "    lines.append(MatrixResult[0, 0]+MatrixResult[1, 1]+MatrixResult[1, 2]+MatrixResult[1, 3]+MatrixResult[0, 4])\n",
    "\n",
    "    lines.append(MatrixResult[2, 0]+MatrixResult[1, 1]+MatrixResult[1, 2]+MatrixResult[1, 3]+MatrixResult[2, 4])\n",
    "    lines.append(MatrixResult[0, 0]+MatrixResult[0, 1]+MatrixResult[1, 2]+MatrixResult[2, 3]+MatrixResult[2, 4])\n",
    "    lines.append(MatrixResult[2, 0]+MatrixResult[2, 1]+MatrixResult[1, 2]+MatrixResult[0, 3]+MatrixResult[0, 4])\n",
    "\n",
    "    d = {'AAA': 4, 'AAAA': 20, 'AAAAA': 40, \n",
    "         'BBB': 3, 'BBBB': 15, 'BBBBB': 30,\n",
    "        'CCC': 2, 'CCCC': 10, 'CCCCC': 20,\n",
    "        'DDD': 1, 'DDDD': 5, 'DDDDD': 10,\n",
    "        'EEE': 0.4, 'EEEE': 2, 'EEEEE': 4,\n",
    "        'FFF': 0.3, 'FFFF': 1.5, 'FFFFF': 3,\n",
    "        'GGG': 0.2, 'GGGG': 1, 'GGGGG': 2,\n",
    "        'HHH': 0.1, 'HHHH': 0.5, 'HHHHH': 1}\n",
    "\n",
    "    #ищем шаблоны по ключам словаря\n",
    "    for i in lines: \n",
    "        for j in list(d.keys()):   \n",
    "            if i.find(j)!=-1:\n",
    "                PrizeValue = PrizeValue + d[j]\n",
    "       \n",
    "    # В зависимости от числа элементов S в матрице выберем число спинов\n",
    "    # 3 символа – 5 фри-спинов, 4 символа – 10 фри-спинов, 5 символов – 15 фри-спинов  \n",
    "    num_of_S = len(np.where(MatrixResult=='S')[0])\n",
    "    if num_of_S == 3:\n",
    "        add_spin = 5\n",
    "    if num_of_S == 4:\n",
    "        add_spin = 10\n",
    "    if num_of_S == 5:\n",
    "        add_spin = 15        \n",
    "    \n",
    "    return PrizeValue, add_spin\n",
    "\n",
    "\n",
    "print('Пример расчета размера приза по всем 9 линиям выплат и числа фриспинов за 1 вращение \\n' )\n",
    "print('Матрица игры \\n' + str(tmp))      \n",
    "print('Сумма выигрыша \\n' + str(PrizeResult(tmp)[0])) \n",
    "print('Число начисленных фриспинов за раунд \\n' + str(PrizeResult(tmp)[1])) \n",
    "\n",
    "#      + str(PrizeResult(tmp)[0]))"
   ]
  },
  {
   "cell_type": "code",
   "execution_count": 54,
   "id": "b1b4ec15",
   "metadata": {},
   "outputs": [
    {
     "name": "stdout",
     "output_type": "stream",
     "text": [
      "Число генерируемых игр N=10000\n",
      "Выборочное среднее 0.6864186418641894\n",
      "Левая граница 95%  доверительного интервала среднего 0.672963454972635\n",
      "Правая граница 95% доверительного интервала  среднего 0.6998738287557439\n",
      "Выборочная дисперсия 9.402688102778141\n",
      "Левая граница 95% доверительного интервала дисперсии 9.668867472695885\n",
      "Правая граница 95% доверительного интервала дисперсии 9.14739863357046\n",
      "Число генерируемых игр N=100000\n",
      "Выборочное среднее 0.6677221404025718\n",
      "Левая граница 95%  доверительного интервала среднего 0.663583581654614\n",
      "Правая граница 95% доверительного интервала  среднего 0.6718606991505297\n",
      "Выборочная дисперсия 9.145672404316699\n",
      "Левая граница 95% доверительного интервала дисперсии 9.226369094406357\n",
      "Правая граница 95% доверительного интервала дисперсии 9.06603456998951\n",
      "Число генерируемых игр N=1000000\n",
      "Выборочное среднее 0.6642426961514107\n",
      "Левая граница 95%  доверительного интервала среднего 0.6629408028141929\n",
      "Правая граница 95% доверительного интервала  среднего 0.6655445894886286\n",
      "Выборочная дисперсия 8.832921834623178\n",
      "Левая граница 95% доверительного интервала дисперсии 8.857456228767795\n",
      "Правая граница 95% доверительного интервала дисперсии 8.808489701583277\n"
     ]
    }
   ],
   "source": [
    "from scipy import stats\n",
    "# Блок симуляции игры (Game Simulation - название функции)\n",
    "N_Games = [10000, 100000, 1000000]\n",
    "X = []\n",
    "\n",
    "for m in N_Games:\n",
    "    for i in range(1, m):\n",
    "        available_num_spin = 1\n",
    "        PrizeValuePerGame = 0\n",
    "        # Пока число доступных прокруток >1\n",
    "        k = 0 #счетчик игр\n",
    "        while available_num_spin > 0:\n",
    "            # Генерируется 5 случайных чисел: 3 от 1 до N_BarabanStringCenter, 2 от 1 до N_BarabanStringBoundary\n",
    "            Baraban_1 = random.randint(1, N_BarabanStringBoundary-1)\n",
    "            Baraban_2 = random.randint(1, N_BarabanStringCenter-1)\n",
    "            Baraban_3 = random.randint(1, N_BarabanStringCenter-1)\n",
    "            Baraban_4 = random.randint(1, N_BarabanStringCenter-1)\n",
    "            Baraban_5 = random.randint(1, N_BarabanStringBoundary-1)\n",
    "\n",
    "            MatrixOfGame = GameMatrixResult(Baraban_1, Baraban_2, Baraban_3, Baraban_4, Baraban_5)\n",
    "            PrizeValuePerSpin, add_spin = PrizeResult(MatrixOfGame)        \n",
    "            available_num_spin = available_num_spin - 1 + add_spin\n",
    "            PrizeValuePerGame = PrizeValuePerGame + PrizeValuePerSpin\n",
    "            k = k + 1\n",
    "        #print('Игра номер '+str(i) + ' Выигрыш ' + str(PrizeValuePerGame) + ' Число оборотов ' + str(k))\n",
    "        X.append(PrizeValuePerGame)\n",
    "        \n",
    "        \n",
    "    df = pd.DataFrame(X, columns =['Выигрыш за 1 игру'])\n",
    "  \n",
    "    alpha = 0.05                       # significance level = 5%\n",
    "    t = stats.t.ppf(1 - alpha/2, m-1)   # t-critical value for 95% CI = 2.093\n",
    "    \n",
    "    tmp = df['Выигрыш за 1 игру'].mean()*t/math.sqrt(m)\n",
    "    leftmean_confidence_interval = df['Выигрыш за 1 игру'].mean()-tmp\n",
    "    rightmean_confidence_interval = df['Выигрыш за 1 игру'].mean()+tmp\n",
    "    #0.9, 0.95, 0.99\n",
    "    \n",
    "\n",
    "\n",
    "    alpha = 0.05               # significance level = 5%\n",
    "    s2 = df['Выигрыш за 1 игру'].var()   # sample variance\n",
    "    leftvar_confidence_interval = (m - 1) * s2 / stats.chi2.ppf(alpha / 2, m - 1)\n",
    "    rightvar_confidence_interval = (m - 1) * s2 / stats.chi2.ppf(1 - alpha / 2, m - 1)\n",
    "\n",
    "     \n",
    "    print('Число генерируемых игр N='+str(m))\n",
    "    print('Выборочное среднее ' + str(df['Выигрыш за 1 игру'].mean()))\n",
    "    print('Левая граница 95%  доверительного интервала среднего ' + str(leftmean_confidence_interval))\n",
    "    print('Правая граница 95% доверительного интервала  среднего ' + str(rightmean_confidence_interval)) \n",
    "    \n",
    "    print('Выборочная дисперсия ' + str(df['Выигрыш за 1 игру'].var()))\n",
    "    print('Левая граница 95% доверительного интервала дисперсии ' + str(leftvar_confidence_interval))\n",
    "    print('Правая граница 95% доверительного интервала дисперсии ' + str(rightvar_confidence_interval)) \n",
    "\n",
    "    #print('Медиана ' + str(df['Выигрыш за 1 игру'].median()))\n",
    "        \n",
    "  "
   ]
  },
  {
   "cell_type": "markdown",
   "id": "daba36e2",
   "metadata": {},
   "source": [
    "Таким образом мат. ожидание ≈ 0.66, дисперсия ≈ 8.83"
   ]
  },
  {
   "cell_type": "code",
   "execution_count": 64,
   "id": "c9fef188",
   "metadata": {},
   "outputs": [
    {
     "data": {
      "text/plain": [
       "<AxesSubplot: >"
      ]
     },
     "metadata": {},
     "output_type": "display_data"
    },
    {
     "data": {
      "image/png": "[encoded data removed]",
      "text/plain": [
       "<Figure size 640x480 with 1 Axes>"
      ]
     },
     "metadata": {},
     "output_type": "display_data"
    }
   ],
   "source": [
    "#распределение ненулевых выигрышей\n",
    "df_tmp = df['Выигрыш за 1 игру'][df['Выигрыш за 1 игру']>0.01]\n",
    "display(df_tmp[df['Выигрыш за 1 игру']<10].hist(bins=30))  "
   ]
  },
  {
   "cell_type": "code",
   "execution_count": null,
   "id": "91d2af61",
   "metadata": {},
   "outputs": [],
   "source": []
  }
 ],
 "metadata": {
  "kernelspec": {
   "display_name": "Python 3 (ipykernel)",
   "language": "python",
   "name": "python3"
  },
  "language_info": {
   "codemirror_mode": {
    "name": "ipython",
    "version": 3
   },
   "file_extension": ".py",
   "mimetype": "text/x-python",
   "name": "python",
   "nbconvert_exporter": "python",
   "pygments_lexer": "ipython3",
   "version": "3.9.13"
  }
 },
 "nbformat": 4,
 "nbformat_minor": 5
}
