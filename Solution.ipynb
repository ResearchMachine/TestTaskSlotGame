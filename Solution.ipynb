{
 "cells": [
  {
   "cell_type": "markdown",
   "id": "a7fc2d38",
   "metadata": {},
   "source": [
    "\n",
    "# Аннотация к решению: \n",
    "Используется метод Монте Карло для генерации выборки случайной величины суммы выигрыша. \n",
    "\n",
    "**Описание алгоритма:**\n",
    "Генерируется 5 случайных величин - номера элементов положений середин барабанов. На основе этих чисел формируется матрица с результатами игры. По матрице вычисляется выигрыш и доступные спины. Алгоритм повторяется и выигрыш суммируется до тех пор, пока есть доступные спины. Так как положения каждого из барабанов равновероятны, то используется генератор случайной величины с равномерной функцией распределения.\n",
    "\n",
    "\n",
    "Доверительные интервалы для дисперсии и мат ожидания вычисляются по формулам [[Ссылка 1]](https://mse.msu.ru/wp-content/uploads/2020/03/%D0%9B%D0%B5%D0%BA%D1%86%D0%B8%D1%8F-5-%D0%B4%D0%BE%D0%B2%D0%B5%D1%80%D0%B8%D1%82%D0%B5%D0%BB%D1%8C%D0%BD%D1%8B%D0%B5-%D0%B8%D0%BD%D1%82%D0%B5%D1%80%D0%B2%D0%B0%D0%BB%D1%8B.pdf), [[Ссылка 2]](https://aegis4048.github.io/comprehensive_confidence_intervals_for_python_developers) в предположении что генеральная совокупность имеет нормальную форму.\n",
    "\n",
    "**Результат:**\n",
    "В результате реализации, проведены симуляции 10^4, 10^5, 10^6 игр. \n",
    "Проведен расчет мат ожидания, дисперсии и доверительные интервалов этих величин. Приведен график распределения игр с ненулевым выигрышем.\n",
    "\n",
    "\n",
    "\n",
    "------------------------------------------------------------------------------------------\n"
   ]
  },
  {
   "cell_type": "code",
   "execution_count": 1,
   "id": "f5f423b5",
   "metadata": {},
   "outputs": [],
   "source": [
    "#Remove warnings\n",
    "import warnings\n",
    "warnings.simplefilter(\"ignore\")\n",
    "#Basic data analysis libraries\n",
    "import seaborn as sns\n",
    "import numpy as np\n",
    "import matplotlib.pyplot as plt\n",
    "from matplotlib.colors import ListedColormap\n",
    "import pandas as pd\n",
    "import math\n",
    "import random"
   ]
  },
  {
   "cell_type": "code",
   "execution_count": 2,
   "id": "a2fe5517",
   "metadata": {},
   "outputs": [
    {
     "data": {
      "text/plain": [
       "array([[<AxesSubplot: title={'center': '0'}>]], dtype=object)"
      ]
     },
     "execution_count": 2,
     "metadata": {},
     "output_type": "execute_result"
    },
    {
     "data": {
      "image/png": "[encoded data removed]",
      "text/plain": [
       "<Figure size 640x480 with 1 Axes>"
      ]
     },
     "metadata": {},
     "output_type": "display_data"
    }
   ],
   "source": [
    "# Визуально проверим \"равномерность\" генератора\n",
    "N_Games = 100000\n",
    "tmp = []\n",
    "\n",
    "for i in range(1, N_Games):\n",
    "    tmp.append(random.randint(1, 180))\n",
    "    \n",
    "df = pd.DataFrame(tmp)\n",
    "df.hist(bins=50)"
   ]
  },
  {
   "cell_type": "code",
   "execution_count": 3,
   "id": "2c0f673c",
   "metadata": {},
   "outputs": [
    {
     "name": "stdout",
     "output_type": "stream",
     "text": [
      "Пример одной реализации игры \n",
      "[['G' 'G' 'G' 'G' 'G']\n",
      " ['S' 'S' 'S' 'S' 'S']\n",
      " ['E' 'E' 'E' 'E' 'E']]\n"
     ]
    }
   ],
   "source": [
    "#Параметры барабанов\n",
    "\n",
    "#Лента центральных барабанов \n",
    "BarabanStringCenter = 'GSEDGDBWGFEAHGBCHCBFACGGEFSCAWAHEFDWCGEEGFFGHDCHGBGCHCBHDDDBFHSWHSADCHABCDSEHBDADAEFDHGCEHDSFCAAFCHCBAFDGEFDGBECBSFECWSFWFEBHCDHGGGSGBHGFAHAAAFCFHBADAWDBWEBAEAEBFCWBDWCBFHESDEEBEAG'\n",
    "#Лента барабанов на краях\n",
    "BarabanStringBoundary = BarabanStringCenter.replace('W', '')\n",
    "\n",
    "# Получение матрицы 5х3 результата игры\n",
    "def GameMatrixResult(S1, S2, S3, S4, S5): \n",
    "    # Подставляем входные параметры в положения массивов BarabanStringCenter и BarabanStringBoundary\n",
    "    arr = [[BarabanStringBoundary[S1-1], BarabanStringCenter[S2-1], BarabanStringCenter[S3-1], BarabanStringCenter[S4-1], BarabanStringBoundary[S5-1]], \n",
    "           [BarabanStringBoundary[S1], BarabanStringCenter[S2], BarabanStringCenter[S3], BarabanStringCenter[S4], BarabanStringBoundary[S5]], \n",
    "           [BarabanStringBoundary[S1+1], BarabanStringCenter[S2+1], BarabanStringCenter[S3+1], BarabanStringCenter[S4+1], BarabanStringBoundary[S5+1]]]\n",
    "    arr = np.array(arr)\n",
    "    return(arr)\n",
    "\n",
    "N_BarabanStringCenter = len(BarabanStringCenter)-1\n",
    "N_BarabanStringBoundary = len(BarabanStringBoundary)-1\n",
    "\n",
    "tmp = GameMatrixResult(1, 1, 1, 1, 1)\n",
    "\n",
    "print('Пример одной реализации игры \\n' + str(tmp))"
   ]
  },
  {
   "cell_type": "code",
   "execution_count": 13,
   "id": "404b5c4c",
   "metadata": {},
   "outputs": [
    {
     "name": "stdout",
     "output_type": "stream",
     "text": [
      "Пример расчета размера приза по всем 9 линиям выплат и числа фриспинов за 1 вращение \n",
      "\n",
      "Матрица игры \n",
      "[['G' 'G' 'G' 'G' 'G']\n",
      " ['S' 'S' 'S' 'S' 'S']\n",
      " ['E' 'E' 'E' 'E' 'E']]\n",
      "Сумма выигрыша \n",
      "6\n",
      "Число начисленных фриспинов за раунд \n",
      "15\n"
     ]
    }
   ],
   "source": [
    "add_spin3 = 5\n",
    "add_spin4 = 10\n",
    "add_spin5 = 15\n",
    "\n",
    "def PrizeResult(MatrixResult):\n",
    "    PrizeValue = 0\n",
    "    add_spin = 0\n",
    "\n",
    "    # По таблице выплат считаем выигрыш по всем линиям выплат\n",
    "    # 9 линий выплат\n",
    "    lines = []\n",
    "\n",
    "    lines.append(MatrixResult[0, 0]+MatrixResult[0, 1]+MatrixResult[0, 2]+MatrixResult[0, 3]+MatrixResult[0, 4])\n",
    "    lines.append(MatrixResult[1, 0]+MatrixResult[1, 1]+MatrixResult[1, 2]+MatrixResult[1, 3]+MatrixResult[1, 4])\n",
    "    lines.append(MatrixResult[2, 0]+MatrixResult[2, 1]+MatrixResult[2, 2]+MatrixResult[2, 3]+MatrixResult[2, 4])\n",
    "\n",
    "    lines.append(MatrixResult[0, 0]+MatrixResult[1, 1]+MatrixResult[2, 2]+MatrixResult[1, 3]+MatrixResult[0, 4])\n",
    "    lines.append(MatrixResult[2, 0]+MatrixResult[1, 1]+MatrixResult[0, 2]+MatrixResult[1, 3]+MatrixResult[2, 4])\n",
    "    lines.append(MatrixResult[0, 0]+MatrixResult[1, 1]+MatrixResult[1, 2]+MatrixResult[1, 3]+MatrixResult[0, 4])\n",
    "\n",
    "    lines.append(MatrixResult[2, 0]+MatrixResult[1, 1]+MatrixResult[1, 2]+MatrixResult[1, 3]+MatrixResult[2, 4])\n",
    "    lines.append(MatrixResult[0, 0]+MatrixResult[0, 1]+MatrixResult[1, 2]+MatrixResult[2, 3]+MatrixResult[2, 4])\n",
    "    lines.append(MatrixResult[2, 0]+MatrixResult[2, 1]+MatrixResult[1, 2]+MatrixResult[0, 3]+MatrixResult[0, 4])\n",
    "    #print(lines)\n",
    "    \n",
    "\n",
    "    d = {'AAAAA': 40,'AAAA': 20,'AAA': 4,   \n",
    "         'BBBBB': 30, 'BBBB': 15,'BBB': 3,  \n",
    "        'CCCCC': 20, 'CCCC': 10, 'CCC': 2,  \n",
    "        'DDDDD': 10, 'DDDD': 5, 'DDD': 1, \n",
    "        'EEEEE': 4, 'EEEE': 2, 'EEE': 0.4,  \n",
    "        'FFFFF': 3, 'FFFF': 1.5, 'FFF': 0.3, \n",
    "        'GGGGG': 2, 'GGGG': 1, 'GGG': 0.2, \n",
    "        'HHHHH': 1, 'HHHH': 0.5,'HHH': 0.1}\n",
    "\n",
    "    #ищем шаблоны по ключам словаря\n",
    "    for i in lines: \n",
    "        for j in list(d.keys()):   \n",
    "            if i.find(j)!=-1:\n",
    "                PrizeValue = PrizeValue + d[j]               \n",
    "                #print(d[j])\n",
    "                break\n",
    "       \n",
    "    # В зависимости от числа элементов S в матрице выберем число спинов\n",
    "    # 3 символа – 5 фри-спинов, 4 символа – 10 фри-спинов, 5 символов – 15 фри-спинов  \n",
    "    num_of_S = len(np.where(MatrixResult=='S')[0])\n",
    "    if num_of_S == 3:\n",
    "        add_spin = 5\n",
    "    if num_of_S == 4:\n",
    "        add_spin = 10\n",
    "    if num_of_S == 5:\n",
    "        add_spin = 15        \n",
    "    \n",
    "    return PrizeValue, add_spin\n",
    "\n",
    "\n",
    "print('Пример расчета размера приза по всем 9 линиям выплат и числа фриспинов за 1 вращение \\n' )\n",
    "print('Матрица игры \\n' + str(tmp))      \n",
    "print('Сумма выигрыша \\n' + str(PrizeResult(tmp)[0])) \n",
    "print('Число начисленных фриспинов за раунд \\n' + str(PrizeResult(tmp)[1])) "
   ]
  },
  {
   "cell_type": "code",
   "execution_count": 14,
   "id": "b1b4ec15",
   "metadata": {},
   "outputs": [
    {
     "name": "stdout",
     "output_type": "stream",
     "text": [
      "Число генерируемых игр N=10000\n",
      "Выборочное среднее 0.663856385638566\n",
      "Левая граница 95%  доверительного интервала среднего 0.6508434643786477\n",
      "Правая граница 95% доверительного интервала  среднего 0.6768693068984842\n",
      "Выборочная дисперсия 7.504036577092694\n",
      "Левая граница 95% доверительного интервала дисперсии 7.716467289044107\n",
      "Правая граница 95% доверительного интервала дисперсии 7.3002968067481895\n",
      "Число генерируемых игр N=100000\n",
      "Выборочное среднее 0.6722876779577911\n",
      "Левая граница 95%  доверительного интервала среднего 0.6681208218923639\n",
      "Правая граница 95% доверительного интервала  среднего 0.6764545340232183\n",
      "Выборочная дисперсия 6.820187409924776\n",
      "Левая граница 95% доверительного интервала дисперсии 6.880365221401198\n",
      "Правая граница 95% доверительного интервала дисперсии 6.760799217234252\n",
      "Число генерируемых игр N=1000000\n",
      "Выборочное среднее 0.675282275537689\n",
      "Левая граница 95%  доверительного интервала среднего 0.6739587449962807\n",
      "Правая граница 95% доверительного интервала  среднего 0.6766058060790974\n",
      "Выборочная дисперсия 7.070509253792024\n",
      "Левая граница 95% доверительного интервала дисперсии 7.090148356694047\n",
      "Правая граница 95% доверительного интервала дисперсии 7.0509520080716594\n"
     ]
    }
   ],
   "source": [
    "from scipy import stats\n",
    "# Блок симуляции игры (Game Simulation - название функции)\n",
    "N_Games = [10000, 100000, 1000000]\n",
    "X = []\n",
    "\n",
    "for m in N_Games:\n",
    "    for i in range(1, m):\n",
    "        available_num_spin = 1\n",
    "        PrizeValuePerGame = 0\n",
    "        # Пока число доступных прокруток >1\n",
    "        k = 0 #счетчик игр\n",
    "        while available_num_spin > 0:\n",
    "            # Генерируется 5 случайных чисел: 3 от 1 до N_BarabanStringCenter, 2 от 1 до N_BarabanStringBoundary\n",
    "            Baraban_1 = random.randint(1, N_BarabanStringBoundary-1)\n",
    "            Baraban_2 = random.randint(1, N_BarabanStringCenter-1)\n",
    "            Baraban_3 = random.randint(1, N_BarabanStringCenter-1)\n",
    "            Baraban_4 = random.randint(1, N_BarabanStringCenter-1)\n",
    "            Baraban_5 = random.randint(1, N_BarabanStringBoundary-1)\n",
    "\n",
    "            MatrixOfGame = GameMatrixResult(Baraban_1, Baraban_2, Baraban_3, Baraban_4, Baraban_5)\n",
    "            PrizeValuePerSpin, add_spin = PrizeResult(MatrixOfGame)        \n",
    "            available_num_spin = available_num_spin - 1 + add_spin\n",
    "            PrizeValuePerGame = PrizeValuePerGame + PrizeValuePerSpin\n",
    "            k = k + 1\n",
    "        #print('Игра номер '+str(i) + ' Выигрыш ' + str(PrizeValuePerGame) + ' Число оборотов ' + str(k))\n",
    "        X.append(PrizeValuePerGame)\n",
    "                \n",
    "    df = pd.DataFrame(X, columns =['Выигрыш за 1 игру']) \n",
    "    alpha = 0.05                       # significance level = 5%\n",
    "    t = stats.t.ppf(1 - alpha/2, m-1)   # t-critical value for 95% CI = 2.093\n",
    "    \n",
    "    tmp = df['Выигрыш за 1 игру'].mean()*t/math.sqrt(m)\n",
    "    leftmean_confidence_interval = df['Выигрыш за 1 игру'].mean()-tmp\n",
    "    rightmean_confidence_interval = df['Выигрыш за 1 игру'].mean()+tmp\n",
    "  \n",
    "    alpha = 0.05  # significance level = 5%\n",
    "    s2 = df['Выигрыш за 1 игру'].var()   # sample variance\n",
    "    leftvar_confidence_interval = (m - 1) * s2 / stats.chi2.ppf(alpha / 2, m - 1)\n",
    "    rightvar_confidence_interval = (m - 1) * s2 / stats.chi2.ppf(1 - alpha / 2, m - 1)\n",
    "     \n",
    "    print('Число генерируемых игр N='+str(m))\n",
    "    print('Выборочное среднее ' + str(df['Выигрыш за 1 игру'].mean()))\n",
    "    print('Левая граница 95%  доверительного интервала среднего ' + str(leftmean_confidence_interval))\n",
    "    print('Правая граница 95% доверительного интервала  среднего ' + str(rightmean_confidence_interval)) \n",
    "    \n",
    "    print('Выборочная дисперсия ' + str(df['Выигрыш за 1 игру'].var()))\n",
    "    print('Левая граница 95% доверительного интервала дисперсии ' + str(leftvar_confidence_interval))\n",
    "    print('Правая граница 95% доверительного интервала дисперсии ' + str(rightvar_confidence_interval)) \n",
    "\n",
    "    #print('Медиана ' + str(df['Выигрыш за 1 игру'].median()))\n",
    "        \n",
    "  "
   ]
  },
  {
   "cell_type": "markdown",
   "id": "9c34f253",
   "metadata": {},
   "source": [
    "Таким образом мат. ожидание находится в интервале от 0.651 до 0.676, дисперсия от 6.76 до 7.71"
   ]
  },
  {
   "cell_type": "code",
   "execution_count": 18,
   "id": "c10e098d",
   "metadata": {},
   "outputs": [
    {
     "data": {
      "text/plain": [
       "<AxesSubplot: >"
      ]
     },
     "metadata": {},
     "output_type": "display_data"
    },
    {
     "data": {
      "image/png": "[encoded data removed]",
      "text/plain": [
       "<Figure size 640x480 with 1 Axes>"
      ]
     },
     "metadata": {},
     "output_type": "display_data"
    }
   ],
   "source": [
    "#распределение ненулевых выигрышей\n",
    "df_tmp = df['Выигрыш за 1 игру'][df['Выигрыш за 1 игру']>0.01]\n",
    "display(df_tmp[df['Выигрыш за 1 игру']<1000].hist(bins=30))  "
   ]
  },
  {
   "cell_type": "code",
   "execution_count": 19,
   "id": "61c76d1a",
   "metadata": {},
   "outputs": [
    {
     "data": {
      "text/html": [
       "<div>\n",
       "<style scoped>\n",
       "    .dataframe tbody tr th:only-of-type {\n",
       "        vertical-align: middle;\n",
       "    }\n",
       "\n",
       "    .dataframe tbody tr th {\n",
       "        vertical-align: top;\n",
       "    }\n",
       "\n",
       "    .dataframe thead th {\n",
       "        text-align: right;\n",
       "    }\n",
       "</style>\n",
       "<table border=\"1\" class=\"dataframe\">\n",
       "  <thead>\n",
       "    <tr style=\"text-align: right;\">\n",
       "      <th></th>\n",
       "      <th>count</th>\n",
       "      <th>mean</th>\n",
       "      <th>std</th>\n",
       "      <th>min</th>\n",
       "      <th>25%</th>\n",
       "      <th>50%</th>\n",
       "      <th>75%</th>\n",
       "      <th>max</th>\n",
       "    </tr>\n",
       "  </thead>\n",
       "  <tbody>\n",
       "    <tr>\n",
       "      <th>Выигрыш за 1 игру</th>\n",
       "      <td>1109997.0</td>\n",
       "      <td>0.675282</td>\n",
       "      <td>2.659043</td>\n",
       "      <td>0.0</td>\n",
       "      <td>0.0</td>\n",
       "      <td>0.0</td>\n",
       "      <td>0.1</td>\n",
       "      <td>128.0</td>\n",
       "    </tr>\n",
       "  </tbody>\n",
       "</table>\n",
       "</div>"
      ],
      "text/plain": [
       "                       count      mean       std  min  25%  50%  75%    max\n",
       "Выигрыш за 1 игру  1109997.0  0.675282  2.659043  0.0  0.0  0.0  0.1  128.0"
      ]
     },
     "execution_count": 19,
     "metadata": {},
     "output_type": "execute_result"
    }
   ],
   "source": [
    "df.describe().T"
   ]
  },
  {
   "cell_type": "code",
   "execution_count": null,
   "id": "83f6a575",
   "metadata": {},
   "outputs": [],
   "source": []
  },
  {
   "cell_type": "markdown",
   "id": "1de7acdf",
   "metadata": {},
   "source": [
    "## Учет дисбаланса распределения"
   ]
  },
  {
   "cell_type": "markdown",
   "id": "6d7bbf59",
   "metadata": {},
   "source": [
    "### Преобразование Box-Cox"
   ]
  },
  {
   "cell_type": "code",
   "execution_count": 25,
   "id": "bba10ec9",
   "metadata": {},
   "outputs": [
    {
     "data": {
      "text/html": [
       "<div>\n",
       "<style scoped>\n",
       "    .dataframe tbody tr th:only-of-type {\n",
       "        vertical-align: middle;\n",
       "    }\n",
       "\n",
       "    .dataframe tbody tr th {\n",
       "        vertical-align: top;\n",
       "    }\n",
       "\n",
       "    .dataframe thead th {\n",
       "        text-align: right;\n",
       "    }\n",
       "</style>\n",
       "<table border=\"1\" class=\"dataframe\">\n",
       "  <thead>\n",
       "    <tr style=\"text-align: right;\">\n",
       "      <th></th>\n",
       "      <th>count</th>\n",
       "      <th>mean</th>\n",
       "      <th>std</th>\n",
       "      <th>min</th>\n",
       "      <th>25%</th>\n",
       "      <th>50%</th>\n",
       "      <th>75%</th>\n",
       "      <th>max</th>\n",
       "      <th>Median</th>\n",
       "    </tr>\n",
       "  </thead>\n",
       "  <tbody>\n",
       "    <tr>\n",
       "      <th>Выигрыш за 1 игру</th>\n",
       "      <td>279943.0</td>\n",
       "      <td>2.67755</td>\n",
       "      <td>4.761726</td>\n",
       "      <td>0.1</td>\n",
       "      <td>0.3</td>\n",
       "      <td>1.0</td>\n",
       "      <td>3.0</td>\n",
       "      <td>128.0</td>\n",
       "      <td>1.0</td>\n",
       "    </tr>\n",
       "  </tbody>\n",
       "</table>\n",
       "</div>"
      ],
      "text/plain": [
       "                      count     mean       std  min  25%  50%  75%    max  \\\n",
       "Выигрыш за 1 игру  279943.0  2.67755  4.761726  0.1  0.3  1.0  3.0  128.0   \n",
       "\n",
       "                   Median  \n",
       "Выигрыш за 1 игру     1.0  "
      ]
     },
     "execution_count": 25,
     "metadata": {},
     "output_type": "execute_result"
    },
    {
     "data": {
      "image/png": "[encoded data removed]",
      "text/plain": [
       "<Figure size 1000x300 with 2 Axes>"
      ]
     },
     "metadata": {},
     "output_type": "display_data"
    }
   ],
   "source": [
    "from scipy import stats\n",
    "import matplotlib.pyplot as plt\n",
    "import pandas as pd\n",
    "import numpy as np\n",
    "\n",
    "# generate non-normal sample\n",
    "x = df['Выигрыш за 1 игру'][df['Выигрыш за 1 игру']>0]\n",
    "\n",
    "# plot\n",
    "fig, axes = plt.subplots(1, 2, figsize=(10, 3))\n",
    "axes[0].hist(x)\n",
    "stats.probplot(x, dist=stats.norm, plot=axes[1])\n",
    "fig.tight_layout()\n",
    "\n",
    "# summary statistics\n",
    "df1 = pd.DataFrame(x).describe().T\n",
    "df1['Median'] = np.median(x)\n",
    "df1"
   ]
  },
  {
   "cell_type": "code",
   "execution_count": 27,
   "id": "9221278c",
   "metadata": {},
   "outputs": [
    {
     "data": {
      "text/html": [
       "<div>\n",
       "<style scoped>\n",
       "    .dataframe tbody tr th:only-of-type {\n",
       "        vertical-align: middle;\n",
       "    }\n",
       "\n",
       "    .dataframe tbody tr th {\n",
       "        vertical-align: top;\n",
       "    }\n",
       "\n",
       "    .dataframe thead th {\n",
       "        text-align: right;\n",
       "    }\n",
       "</style>\n",
       "<table border=\"1\" class=\"dataframe\">\n",
       "  <thead>\n",
       "    <tr style=\"text-align: right;\">\n",
       "      <th></th>\n",
       "      <th>count</th>\n",
       "      <th>mean</th>\n",
       "      <th>std</th>\n",
       "      <th>min</th>\n",
       "      <th>25%</th>\n",
       "      <th>50%</th>\n",
       "      <th>75%</th>\n",
       "      <th>max</th>\n",
       "      <th>Median</th>\n",
       "    </tr>\n",
       "  </thead>\n",
       "  <tbody>\n",
       "    <tr>\n",
       "      <th>0</th>\n",
       "      <td>279943.0</td>\n",
       "      <td>0.072522</td>\n",
       "      <td>1.41838</td>\n",
       "      <td>-2.288499</td>\n",
       "      <td>-1.200114</td>\n",
       "      <td>0.0</td>\n",
       "      <td>1.101838</td>\n",
       "      <td>4.915379</td>\n",
       "      <td>0.0</td>\n",
       "    </tr>\n",
       "  </tbody>\n",
       "</table>\n",
       "</div>"
      ],
      "text/plain": [
       "      count      mean      std       min       25%  50%       75%       max  \\\n",
       "0  279943.0  0.072522  1.41838 -2.288499 -1.200114  0.0  1.101838  4.915379   \n",
       "\n",
       "   Median  \n",
       "0     0.0  "
      ]
     },
     "execution_count": 27,
     "metadata": {},
     "output_type": "execute_result"
    },
    {
     "data": {
      "image/png": "[encoded data removed]",
      "text/plain": [
       "<Figure size 1000x300 with 2 Axes>"
      ]
     },
     "metadata": {},
     "output_type": "display_data"
    }
   ],
   "source": [
    "xt, lmbda = stats.boxcox(x)\n",
    "# plot\n",
    "fig, axes = plt.subplots(1, 2, figsize=(10, 3))\n",
    "axes[0].hist(xt)\n",
    "stats.probplot(xt, dist=stats.norm, plot=axes[1])\n",
    "fig.tight_layout()\n",
    "\n",
    "# summary statistics\n",
    "df1 = pd.DataFrame(xt).describe().T\n",
    "df1['Median'] = np.median(xt)\n",
    "df1"
   ]
  },
  {
   "cell_type": "markdown",
   "id": "086c875d",
   "metadata": {},
   "source": [
    "Преобразование не дает существенного приближения к нормальному закону даже если удалить нули"
   ]
  },
  {
   "cell_type": "markdown",
   "id": "6688ca8d",
   "metadata": {},
   "source": [
    "### Bootstrap"
   ]
  },
  {
   "cell_type": "code",
   "execution_count": 31,
   "id": "7351fbe6",
   "metadata": {},
   "outputs": [
    {
     "name": "stdout",
     "output_type": "stream",
     "text": [
      "\n",
      "###########################################################\n",
      "                     Coverage Test (%)                     \n",
      "###########################################################\n",
      "\n",
      "\n",
      "------------------ Non-parametric CI of mean --------------\n",
      "\n",
      "                                                     83.3 %\n",
      "\n",
      "\n",
      "---------------- Non-parametric CI of variance ------------\n",
      "\n",
      "                                                     58.5 %\n"
     ]
    }
   ],
   "source": [
    "from scipy import stats\n",
    "import matplotlib.pyplot as plt\n",
    "import numpy as np\n",
    "\n",
    "# simulation settings\n",
    "NUM_SAMPLES = 1000\n",
    "SAMPLE_SIZE = 100\n",
    "BOOT_SAMPLE_SIZE = 100\n",
    "\n",
    "# analytical confidence interval of mean\n",
    "def ci_mean_analytic(arr, alpha):\n",
    "    return stats.t.interval(1 - alpha, len(arr) - 1, loc=np.mean(arr), scale=stats.sem(arr))\n",
    "\n",
    "# bootstrap confidence interval of mean\n",
    "def ci_mean_boot(arr, p_lo, p_hi, r=BOOT_SAMPLE_SIZE):\n",
    "    boot_var = [np.mean(np.random.choice(arr, len(arr))) for _ in range(r)]\n",
    "    lo = np.percentile(boot_var, p_lo)\n",
    "    hi = np.percentile(boot_var, p_hi)\n",
    "    return (lo, hi)\n",
    "\n",
    "# analytical confidence interval of variance\n",
    "def ci_var_analytic(arr, alpha):\n",
    "    lo, hi = (\n",
    "        (len(arr) - 1) * np.var(arr, ddof=1) / stats.chi2.ppf(1 - alpha / 2, len(arr) - 1),\n",
    "        (len(arr) - 1) * np.var(arr, ddof=1) / stats.chi2.ppf(alpha / 2, len(arr) - 1)\n",
    "    )\n",
    "    return (lo, hi)\n",
    "\n",
    "# bootstrap confidence interval of variance\n",
    "def ci_var_boot(arr, p_lo, p_hi, r=BOOT_SAMPLE_SIZE):\n",
    "    boot_var = [np.var(np.random.choice(arr, len(arr)), ddof=1) for _ in range(r)]\n",
    "    lo = np.percentile(boot_var, p_lo)\n",
    "    hi = np.percentile(boot_var, p_hi)\n",
    "    return (lo, hi)\n",
    "\n",
    "# check if the confidence interval includes the population parameter\n",
    "def coverage_test(lo, hi, target):\n",
    "    if lo <= target <= hi:\n",
    "        return 1\n",
    "    else:\n",
    "        return 0\n",
    "\n",
    "# define population\n",
    "pop = df['Выигрыш за 1 игру']\n",
    "# population mean\n",
    "mean_pop = np.mean(pop)\n",
    "# population variance\n",
    "var_pop = np.var(pop, ddof=0)\n",
    "\n",
    "# initialize\n",
    "count_mean_norm_analytic, count_mean_analytic, count_mean_skew_analytic, count_mean_lognorm_analytic = [], [], [], []\n",
    "count_mean_norm_boot, count_mean_boot, count_mean_skew_boot, count_mean_lognorm_boot = [], [], [], []\n",
    "count_var_norm_analytic, count_var_analytic, count_var_skew_analytic, count_var_lognorm_analytic = [], [], [], []\n",
    "count_var_norm_boot, count_var_boot, count_var_skew_boot, count_var_lognorm_boot = [], [], [], []\n",
    "\n",
    "for i in range(NUM_SAMPLES):\n",
    "    # randomly draw samples from population\n",
    "    samp = np.random.choice(pop, SAMPLE_SIZE)\n",
    "    # 95% ANALYTICAL confidence interval of MEAN\n",
    "    mean_lo_analytic, mean_hi_analytic = ci_mean_analytic(samp, 0.05)\n",
    "    # 95% BOOTSTRAP confidence interval of MEAN\n",
    "    mean_lo_boot, mean_hi_boot = ci_mean_boot(samp, 2.5, 97.5)\n",
    "    # 95% ANALYTICAL confidence interval of VARIANCE\n",
    "    var_lo_analytic, var_hi_analytic = ci_var_analytic(samp, 0.05)\n",
    "    # 95% BOOSTRAP confidence interval of VARIANCE\n",
    "    var_lo_boot, var_hi_boot = ci_var_boot(samp, 2.5, 97.5)\n",
    "\n",
    "    # coverage test for ANALYTICAL CI of MEAN\n",
    "    count_mean_analytic.append(coverage_test(mean_lo_analytic, mean_hi_analytic, mean_pop))\n",
    "    # coverage test for BOOTSTRAP CI of MEAN\n",
    "    count_mean_boot.append(coverage_test(mean_lo_boot, mean_hi_boot, mean_pop))\n",
    "    # coverage test for ANALYTICAL CI of VARIANCE\n",
    "    count_var_analytic.append(coverage_test(var_lo_analytic, var_hi_analytic, var_pop))\n",
    "    # coverage test for BOOTSTRAP CI of VARIANCE\n",
    "    count_var_boot.append(coverage_test(var_lo_boot, var_hi_boot, var_pop))\n",
    "\n",
    "    \n",
    "print()\n",
    "print('###########################################################')\n",
    "print('                     Coverage Test (%)                     ')\n",
    "print('###########################################################')\n",
    "print()\n",
    "print()\n",
    "#print('------------------ Parametric CI of mean ------------------')\n",
    "#print()\n",
    "#print('{:<40}  {:>15} %'.format(' ', round(sum(count_mean_analytic) / NUM_SAMPLES * 100, 1)))\n",
    "#print()\n",
    "print('------------------ Non-parametric CI of mean --------------')\n",
    "print()\n",
    "print('{:<40}  {:>15} %'.format(' ', round(sum(count_mean_boot) / NUM_SAMPLES * 100, 1)))\n",
    "print()\n",
    "#print('---------------- Parametric CI of variance ----------------')\n",
    "#print()\n",
    "#print('{:<40}  {:>15} %'.format(' ', round(sum(count_var_analytic) / NUM_SAMPLES * 100, 1)))\n",
    "print()\n",
    "print('---------------- Non-parametric CI of variance ------------')\n",
    "print()\n",
    "print('{:<40}  {:>15} %'.format(' ', round(sum(count_var_boot) / NUM_SAMPLES * 100, 1)))\n"
   ]
  },
  {
   "cell_type": "code",
   "execution_count": null,
   "id": "4290ff4c",
   "metadata": {},
   "outputs": [],
   "source": []
  },
  {
   "cell_type": "code",
   "execution_count": null,
   "id": "bc632324",
   "metadata": {},
   "outputs": [],
   "source": []
  }
 ],
 "metadata": {
  "kernelspec": {
   "display_name": "Python 3 (ipykernel)",
   "language": "python",
   "name": "python3"
  },
  "language_info": {
   "codemirror_mode": {
    "name": "ipython",
    "version": 3
   },
   "file_extension": ".py",
   "mimetype": "text/x-python",
   "name": "python",
   "nbconvert_exporter": "python",
   "pygments_lexer": "ipython3",
   "version": "3.9.13"
  }
 },
 "nbformat": 4,
 "nbformat_minor": 5
}
